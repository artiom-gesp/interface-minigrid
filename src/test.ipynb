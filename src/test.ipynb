{
 "cells": [
  {
   "cell_type": "code",
   "execution_count": 2,
   "metadata": {},
   "outputs": [
    {
     "name": "stdout",
     "output_type": "stream",
     "text": [
      "pygame 2.5.2 (SDL 2.28.2, Python 3.9.18)\n",
      "Hello from the pygame community. https://www.pygame.org/contribute.html\n"
     ]
    }
   ],
   "source": [
    "from minigrid.wrappers import ImgObsWrapper\n",
    "import gymnasium as gym\n",
    "from minigrid.core.grid import Grid\n",
    "import torch\n",
    "import matplotlib.pyplot as plt\n",
    "import numpy as np\n",
    "from stable_baselines3 import PPO\n",
    "from minigrid.core.constants import COLOR_TO_IDX, OBJECT_TO_IDX\n",
    "from PIL import Image\n",
    "\n"
   ]
  },
  {
   "cell_type": "code",
   "execution_count": 3,
   "metadata": {},
   "outputs": [],
   "source": [
    "env = gym.make(\"MiniGrid-FourRooms-v0\", render_mode=\"rgb_array\", agent_view_size=5)\n",
    "env = ImgObsWrapper(env)"
   ]
  },
  {
   "cell_type": "code",
   "execution_count": 4,
   "metadata": {},
   "outputs": [],
   "source": [
    "a,_ = env.reset()"
   ]
  },
  {
   "cell_type": "code",
   "execution_count": 5,
   "metadata": {},
   "outputs": [],
   "source": [
    "def mask_output(obs):\n",
    "    \n",
    "    masked_logits = obs\n",
    "    masked_logits[..., 0] %= 11\n",
    "    masked_logits[..., 1] %= 6\n",
    "    masked_logits[..., 2] %= 3\n",
    "\n",
    "    return masked_logits\n",
    "\n"
   ]
  },
  {
   "cell_type": "code",
   "execution_count": 6,
   "metadata": {},
   "outputs": [],
   "source": [
    "def decode_img(repr):\n",
    "    d, e = Grid.decode(repr)\n",
    "    return d.render(\n",
    "        16,\n",
    "        agent_pos=(5 // 2, 5 - 1),\n",
    "        agent_dir=3,\n",
    "        # highlight_mask=False,\n",
    "    )\n",
    "\n",
    "def decode_full_img(repr, agent_pos, agent_dir):\n",
    "    d, e = Grid.decode(repr)\n",
    "    return d.render(\n",
    "        16,\n",
    "        agent_pos=agent_pos,\n",
    "        agent_dir=agent_dir,\n",
    "        # highlight_mask=False,\n",
    "    )"
   ]
  },
  {
   "cell_type": "code",
   "execution_count": 9,
   "metadata": {},
   "outputs": [],
   "source": [
    "def get_top(agent_dir, agent_pos, short_side, long_side):\n",
    "    x, y = agent_pos\n",
    "    if agent_dir == 0:\n",
    "        top = (x, max(y - short_side, 0))\n",
    "    elif agent_dir == 1:\n",
    "        top = (max(x - short_side, 0), y)\n",
    "    elif agent_dir == 2:\n",
    "        top = (max(x - long_side, 0), max(y - short_side, 0))\n",
    "    elif agent_dir == 3:\n",
    "        top = (max(x - short_side, 0), max(y - long_side, 0))\n",
    "    \n",
    "    return top\n",
    "\n",
    "def update_full_view(env, view):\n",
    "    agent_dir = env.agent_dir\n",
    "    agent_pos = env.agent_pos\n",
    "\n",
    "    view = np.rot90(view, (4 - np.abs(env.agent_dir - 3)) % 4)\n",
    "    x, y = agent_pos\n",
    "\n",
    "    view_size = view.shape[0]\n",
    "\n",
    "    short_side = view_size // 2\n",
    "    long_side = view_size - 1\n",
    "\n",
    "    x_top, y_top = get_top(agent_dir, agent_pos, short_side, long_side)\n",
    "\n",
    "    if agent_dir == 0: # right\n",
    "        start_y = short_side - y if y - short_side < 0 else 0\n",
    "        start_x = 0\n",
    "        end_x = env.size - x\n",
    "        end_y = (view_size - short_side) + (env.size - y - 1)\n",
    "\n",
    "    elif agent_dir == 1: # down\n",
    "        start_y = 0\n",
    "        start_x = short_side - x if x - short_side < 0 else 0\n",
    "\n",
    "        end_x = (view_size - short_side) + (env.size - x - 1)\n",
    "        end_y = env.size - y\n",
    "\n",
    "    elif agent_dir == 2: # left\n",
    "        start_y = short_side - y if y - short_side < 0 else 0\n",
    "        start_x = long_side - x if x - long_side - 1 < 0 else 0\n",
    "\n",
    "        end_x = view_size\n",
    "        end_y = (view_size - short_side) + (env.size - y - 1)\n",
    "\n",
    "\n",
    "    elif agent_dir == 3: # top\n",
    "\n",
    "        start_x = short_side - x if x - short_side < 0 else 0\n",
    "        start_y = long_side - y if y - long_side < 0 else 0\n",
    "\n",
    "        end_x = (view_size - short_side) + (env.size - x - 1)\n",
    "        end_y = view_size\n",
    "\n",
    "    cropped_view = view[start_x:end_x, start_y:end_y]\n",
    "\n",
    "    full_view = env.grid.encode()\n",
    "\n",
    "    width, height, _ = cropped_view.shape\n",
    "\n",
    "    full_view[x_top:x_top+width, y_top:y_top+height] = cropped_view\n",
    "\n",
    "    return full_view\n",
    "\n",
    "def full_obs(env):\n",
    "    full_grid = env.grid.encode()\n",
    "    full_grid[env.agent_pos[0]][env.agent_pos[1]] = np.array(\n",
    "        [OBJECT_TO_IDX[\"agent\"], COLOR_TO_IDX[\"red\"], env.agent_dir]\n",
    "    )\n",
    "\n",
    "    return full_grid[None, ...]"
   ]
  },
  {
   "cell_type": "code",
   "execution_count": 11,
   "metadata": {},
   "outputs": [
    {
     "name": "stdout",
     "output_type": "stream",
     "text": [
      "Wrapping the env with a `Monitor` wrapper\n",
      "Wrapping the env in a DummyVecEnv.\n",
      "Wrapping the env in a VecTransposeImage.\n"
     ]
    }
   ],
   "source": [
    "device = 'cuda:3'\n",
    "model = PPO.load(\"/local/home/argesp/interface-minigrid/model_best_5\", device=device)\n",
    "model.set_env(env)"
   ]
  },
  {
   "cell_type": "code",
   "execution_count": 10,
   "metadata": {},
   "outputs": [
    {
     "name": "stderr",
     "output_type": "stream",
     "text": [
      "/local/home/argesp/miniconda3/envs/minigrid_env/lib/python3.9/site-packages/gymnasium/core.py:311: UserWarning: \u001b[33mWARN: env.agent_pos to get variables from other wrappers is deprecated and will be removed in v1.0, to get this variable you can do `env.unwrapped.agent_pos` for environment variables or `env.get_wrapper_attr('agent_pos')` that will search the reminding wrappers.\u001b[0m\n",
      "  logger.warn(\n",
      "/local/home/argesp/miniconda3/envs/minigrid_env/lib/python3.9/site-packages/gymnasium/core.py:311: UserWarning: \u001b[33mWARN: env.size to get variables from other wrappers is deprecated and will be removed in v1.0, to get this variable you can do `env.unwrapped.size` for environment variables or `env.get_wrapper_attr('size')` that will search the reminding wrappers.\u001b[0m\n",
      "  logger.warn(\n",
      "/local/home/argesp/miniconda3/envs/minigrid_env/lib/python3.9/site-packages/gymnasium/core.py:311: UserWarning: \u001b[33mWARN: env.grid to get variables from other wrappers is deprecated and will be removed in v1.0, to get this variable you can do `env.unwrapped.grid` for environment variables or `env.get_wrapper_attr('grid')` that will search the reminding wrappers.\u001b[0m\n",
      "  logger.warn(\n"
     ]
    }
   ],
   "source": [
    "images = []\n",
    "obs = model.env.reset()\n",
    "img = model.env.render(mode=\"rgb_array\")\n",
    "\n",
    "mods_imgs = []\n",
    "aligned_imgs = []\n",
    "real = []\n",
    "tops = []\n",
    "trucs = []\n",
    "for i in range(400):\n",
    "    action, _ = model.predict(obs)\n",
    "    obs, _, _ ,_ = model.env.step(action)\n",
    "\n",
    "    mod_img = mask_output(torch.randint(0, 10, (5, 5, 3)).numpy())\n",
    "\n",
    "    mods_imgs.append(mod_img)\n",
    "\n",
    "    real.append(env.render())\n",
    "\n",
    "    aligned_img = np.rot90(mod_img, (4 - np.abs(env.agent_dir - 3)) % 4)\n",
    "\n",
    "    aligned_imgs.append(aligned_img)\n",
    "\n",
    "    full_view = update_full_view(env, mod_img)\n",
    "\n",
    "    images.append(Image.fromarray(decode_full_img(full_view, env.agent_pos, env.agent_dir)).convert('RGBA', dither=None, palette='WEB'))\n",
    "\n",
    "    "
   ]
  },
  {
   "cell_type": "code",
   "execution_count": 163,
   "metadata": {},
   "outputs": [
    {
     "ename": "",
     "evalue": "",
     "output_type": "error",
     "traceback": [
      "\u001b[1;31mThe Kernel crashed while executing code in the the current cell or a previous cell. Please review the code in the cell(s) to identify a possible cause of the failure. Click <a href='https://aka.ms/vscodeJupyterKernelCrash'>here</a> for more info. View Jupyter <a href='command:jupyter.viewOutput'>log</a> for further details."
     ]
    }
   ],
   "source": [
    "images[0].save(f\"test.gif\", format=\"GIF\", append_images=images[1:], save_all=True, duration=len(images) // 4, loop=0)"
   ]
  },
  {
   "cell_type": "code",
   "execution_count": 14,
   "metadata": {},
   "outputs": [],
   "source": [
    "from hydra import initialize, compose\n",
    "from hydra.utils import instantiate\n",
    "\n",
    "from models.interface import InterfaceMLP, InterfaceTransformer\n",
    "from agent import Agent, InterfaceAgent\n",
    "\n",
    "\n",
    "with initialize(config_path=\"../config\", job_name=\"test_app\"):\n",
    "    cfg = compose(config_name=\"interface_trainer\")"
   ]
  },
  {
   "cell_type": "code",
   "execution_count": 82,
   "metadata": {},
   "outputs": [
    {
     "name": "stdout",
     "output_type": "stream",
     "text": [
      "16384\n"
     ]
    }
   ],
   "source": [
    "interface_actor_critic = InterfaceTransformer(model, obs_vocab_size=10, config=instantiate(cfg.interface.transformer))\n",
    "interface_agent = InterfaceAgent(model, interface_actor_critic, cfg.training.actor_critic.reset_horizon).to(device)\n",
    "\n",
    "latest_interface = torch.load('/local/home/argesp/interface-minigrid/outputs/2024-02-25/23-04-45/checkpoints/interface_last.pt', map_location=device)\n",
    "interface_agent.actor_critic.load_state_dict(latest_interface)"
   ]
  },
  {
   "cell_type": "code",
   "execution_count": 81,
   "metadata": {},
   "outputs": [
    {
     "name": "stderr",
     "output_type": "stream",
     "text": [
      "/local/home/argesp/miniconda3/envs/minigrid_env/lib/python3.9/site-packages/stable_baselines3/common/evaluation.py:67: UserWarning: Evaluation environment is not wrapped with a ``Monitor`` wrapper. This may result in reporting modified episode lengths and rewards, if other wrappers happen to modify these. Consider wrapping environment first with ``Monitor`` wrapper.\n",
      "  warnings.warn(\n"
     ]
    },
    {
     "data": {
      "text/plain": [
       "(0.28687999963760374, 0.335105454309212)"
      ]
     },
     "execution_count": 81,
     "metadata": {},
     "output_type": "execute_result"
    }
   ],
   "source": [
    "from stable_baselines3.common.evaluation import evaluate_policy\n",
    "\n",
    "evaluate_policy(model, env, n_eval_episodes=50, deterministic=False)"
   ]
  },
  {
   "cell_type": "code",
   "execution_count": 86,
   "metadata": {},
   "outputs": [],
   "source": [
    "from gymnasium import Env\n",
    "from gymnasium.core import ActionWrapper, ObservationWrapper, ObsType, Wrapper\n",
    "\n",
    "from einops import rearrange\n",
    "from utils import extract_state_dict, MultiCategorical, make_video, update_full_view, decode_full_img, full_obs\n",
    "\n",
    "\n",
    "class ModifiedEnv(ObservationWrapper):\n",
    "\n",
    "    def __init__(self, env: Env):\n",
    "        super().__init__(env)\n",
    "\n",
    "    def observation(self, obs):\n",
    "\n",
    "        obs = torch.IntTensor(obs[None, ...]).to(device)\n",
    "        _, w, h, c = obs.size()\n",
    "\n",
    "        tokens = rearrange(obs, 'b w h c -> b (w h c)').int()\n",
    "        \n",
    "        full_tokens = torch.IntTensor(full_obs(env)).to(device)\n",
    "\n",
    "        outputs_interface_ac = interface_agent.actor_critic(tokens, rearrange(full_tokens, 'b w h c -> b c w h'))\n",
    "        modified_obs = MultiCategorical(logits=outputs_interface_ac.logits_actions).sample()\n",
    "        modified_obs = rearrange(modified_obs, 'b (w h c) -> b w h c', c=c, w=w, h=h)\n",
    "        masked_modified_obs = interface_agent.actor_critic.mask_output(modified_obs).cpu().numpy()\n",
    "        return masked_modified_obs.squeeze(0)\n",
    "    \n",
    "    def reset(self):\n",
    "        interface_agent.actor_critic.reset(n=1, burnin_observations=0, mask_padding=0)\n",
    "        return super().reset()"
   ]
  },
  {
   "cell_type": "code",
   "execution_count": 87,
   "metadata": {},
   "outputs": [],
   "source": [
    "mod_env = ModifiedEnv(env)"
   ]
  },
  {
   "cell_type": "code",
   "execution_count": 88,
   "metadata": {},
   "outputs": [
    {
     "name": "stdout",
     "output_type": "stream",
     "text": [
      "AAA\n",
      "ICIC\n"
     ]
    },
    {
     "name": "stderr",
     "output_type": "stream",
     "text": [
      "/local/home/argesp/miniconda3/envs/minigrid_env/lib/python3.9/site-packages/gymnasium/core.py:311: UserWarning: \u001b[33mWARN: env.grid to get variables from other wrappers is deprecated and will be removed in v1.0, to get this variable you can do `env.unwrapped.grid` for environment variables or `env.get_wrapper_attr('grid')` that will search the reminding wrappers.\u001b[0m\n",
      "  logger.warn(\n",
      "/local/home/argesp/miniconda3/envs/minigrid_env/lib/python3.9/site-packages/gymnasium/core.py:311: UserWarning: \u001b[33mWARN: env.agent_dir to get variables from other wrappers is deprecated and will be removed in v1.0, to get this variable you can do `env.unwrapped.agent_dir` for environment variables or `env.get_wrapper_attr('agent_dir')` that will search the reminding wrappers.\u001b[0m\n",
      "  logger.warn(\n",
      "/local/home/argesp/miniconda3/envs/minigrid_env/lib/python3.9/site-packages/gymnasium/core.py:311: UserWarning: \u001b[33mWARN: env.agent_pos to get variables from other wrappers is deprecated and will be removed in v1.0, to get this variable you can do `env.unwrapped.agent_pos` for environment variables or `env.get_wrapper_attr('agent_pos')` that will search the reminding wrappers.\u001b[0m\n",
      "  logger.warn(\n"
     ]
    },
    {
     "data": {
      "text/plain": [
       "<matplotlib.image.AxesImage at 0x7fd2b2b2a790>"
      ]
     },
     "execution_count": 88,
     "metadata": {},
     "output_type": "execute_result"
    },
    {
     "data": {
      "image/png": "[encoded data removed]",
      "text/plain": [
       "<Figure size 640x480 with 1 Axes>"
      ]
     },
     "metadata": {},
     "output_type": "display_data"
    }
   ],
   "source": [
    "\n",
    "plt.imshow(decode_img(mod_env.reset()[0]))"
   ]
  },
  {
   "cell_type": "code",
   "execution_count": 60,
   "metadata": {},
   "outputs": [
    {
     "data": {
      "text/plain": [
       "<matplotlib.image.AxesImage at 0x7fd2a3d4e8e0>"
      ]
     },
     "execution_count": 60,
     "metadata": {},
     "output_type": "execute_result"
    },
    {
     "data": {
      "image/png": "[encoded data removed]",
      "text/plain": [
       "<Figure size 640x480 with 1 Axes>"
      ]
     },
     "metadata": {},
     "output_type": "display_data"
    }
   ],
   "source": [
    "plt.imshow(env.render())"
   ]
  },
  {
   "cell_type": "code",
   "execution_count": 61,
   "metadata": {},
   "outputs": [
    {
     "name": "stderr",
     "output_type": "stream",
     "text": [
      "/local/home/argesp/miniconda3/envs/minigrid_env/lib/python3.9/site-packages/stable_baselines3/common/evaluation.py:67: UserWarning: Evaluation environment is not wrapped with a ``Monitor`` wrapper. This may result in reporting modified episode lengths and rewards, if other wrappers happen to modify these. Consider wrapping environment first with ``Monitor`` wrapper.\n",
      "  warnings.warn(\n",
      "/local/home/argesp/miniconda3/envs/minigrid_env/lib/python3.9/site-packages/gymnasium/core.py:311: UserWarning: \u001b[33mWARN: env.grid to get variables from other wrappers is deprecated and will be removed in v1.0, to get this variable you can do `env.unwrapped.grid` for environment variables or `env.get_wrapper_attr('grid')` that will search the reminding wrappers.\u001b[0m\n",
      "  logger.warn(\n",
      "/local/home/argesp/miniconda3/envs/minigrid_env/lib/python3.9/site-packages/gymnasium/core.py:311: UserWarning: \u001b[33mWARN: env.agent_dir to get variables from other wrappers is deprecated and will be removed in v1.0, to get this variable you can do `env.unwrapped.agent_dir` for environment variables or `env.get_wrapper_attr('agent_dir')` that will search the reminding wrappers.\u001b[0m\n",
      "  logger.warn(\n",
      "/local/home/argesp/miniconda3/envs/minigrid_env/lib/python3.9/site-packages/gymnasium/core.py:311: UserWarning: \u001b[33mWARN: env.agent_pos to get variables from other wrappers is deprecated and will be removed in v1.0, to get this variable you can do `env.unwrapped.agent_pos` for environment variables or `env.get_wrapper_attr('agent_pos')` that will search the reminding wrappers.\u001b[0m\n",
      "  logger.warn(\n"
     ]
    },
    {
     "data": {
      "text/plain": [
       "(0.3198400017619133, 0.36378232029738083)"
      ]
     },
     "execution_count": 61,
     "metadata": {},
     "output_type": "execute_result"
    }
   ],
   "source": [
    "evaluate_policy(model, mod_env, n_eval_episodes=50, deterministic=False)\n"
   ]
  },
  {
   "cell_type": "code",
   "execution_count": null,
   "metadata": {},
   "outputs": [],
   "source": []
  }
 ],
 "metadata": {
  "kernelspec": {
   "display_name": "minigrid_env",
   "language": "python",
   "name": "python3"
  },
  "language_info": {
   "codemirror_mode": {
    "name": "ipython",
    "version": 3
   },
   "file_extension": ".py",
   "mimetype": "text/x-python",
   "name": "python",
   "nbconvert_exporter": "python",
   "pygments_lexer": "ipython3",
   "version": "3.9.18"
  }
 },
 "nbformat": 4,
 "nbformat_minor": 2
}
