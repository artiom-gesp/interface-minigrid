{
 "cells": [
  {
   "cell_type": "code",
   "execution_count": 3,
   "metadata": {},
   "outputs": [
    {
     "name": "stdout",
     "output_type": "stream",
     "text": [
      "pygame 2.5.2 (SDL 2.28.2, Python 3.9.18)\n",
      "Hello from the pygame community. https://www.pygame.org/contribute.html\n"
     ]
    }
   ],
   "source": [
    "from minigrid.wrappers import ImgObsWrapper\n",
    "import gymnasium as gym\n",
    "from minigrid.core.grid import Grid\n",
    "import torch"
   ]
  },
  {
   "cell_type": "code",
   "execution_count": 4,
   "metadata": {},
   "outputs": [],
   "source": [
    "env = gym.make(\"MiniGrid-FourRooms-v0\", render_mode=\"rgb_array\")\n",
    "env = ImgObsWrapper(env)"
   ]
  },
  {
   "cell_type": "code",
   "execution_count": 5,
   "metadata": {},
   "outputs": [],
   "source": [
    "path = \"/local/home/argesp/interface-minigrid/outputs/2024-02-25/00-56-11/media/episodes/train/best_episode_0_epoch_9.pt\"\n",
    "v = torch.load(path)"
   ]
  },
  {
   "cell_type": "code",
   "execution_count": 4,
   "metadata": {},
   "outputs": [],
   "source": [
    "full_frame = v[\"observations\"][:, 2]"
   ]
  },
  {
   "cell_type": "code",
   "execution_count": 6,
   "metadata": {},
   "outputs": [],
   "source": [
    "frame = v[\"observations\"][:, 1, :7, :7]"
   ]
  },
  {
   "cell_type": "code",
   "execution_count": 6,
   "metadata": {},
   "outputs": [
    {
     "data": {
      "text/plain": [
       "torch.Size([1622, 3, 19, 19, 3])"
      ]
     },
     "execution_count": 6,
     "metadata": {},
     "output_type": "execute_result"
    }
   ],
   "source": [
    "v[\"observations\"].shape"
   ]
  },
  {
   "cell_type": "code",
   "execution_count": 7,
   "metadata": {},
   "outputs": [],
   "source": [
    "a,_ = env.reset()"
   ]
  },
  {
   "cell_type": "code",
   "execution_count": 8,
   "metadata": {},
   "outputs": [
    {
     "data": {
      "text/plain": [
       "7"
      ]
     },
     "execution_count": 8,
     "metadata": {},
     "output_type": "execute_result"
    }
   ],
   "source": [
    "env.unwrapped.agent_view_size"
   ]
  },
  {
   "cell_type": "code",
   "execution_count": 7,
   "metadata": {},
   "outputs": [
    {
     "ename": "KeyError",
     "evalue": "9",
     "output_type": "error",
     "traceback": [
      "\u001b[0;31m---------------------------------------------------------------------------\u001b[0m",
      "\u001b[0;31mKeyError\u001b[0m                                  Traceback (most recent call last)",
      "Cell \u001b[0;32mIn[7], line 1\u001b[0m\n\u001b[0;32m----> 1\u001b[0m d, e \u001b[38;5;241m=\u001b[39m \u001b[43mGrid\u001b[49m\u001b[38;5;241;43m.\u001b[39;49m\u001b[43mdecode\u001b[49m\u001b[43m(\u001b[49m\u001b[43mframe\u001b[49m\u001b[43m[\u001b[49m\u001b[38;5;241;43m10\u001b[39;49m\u001b[43m]\u001b[49m\u001b[38;5;241;43m.\u001b[39;49m\u001b[43mnumpy\u001b[49m\u001b[43m(\u001b[49m\u001b[43m)\u001b[49m\u001b[43m)\u001b[49m\n",
      "File \u001b[0;32m~/miniconda3/envs/minigrid_env/lib/python3.9/site-packages/minigrid/core/grid.py:285\u001b[0m, in \u001b[0;36mGrid.decode\u001b[0;34m(array)\u001b[0m\n\u001b[1;32m    283\u001b[0m \u001b[38;5;28;01mfor\u001b[39;00m j \u001b[38;5;129;01min\u001b[39;00m \u001b[38;5;28mrange\u001b[39m(height):\n\u001b[1;32m    284\u001b[0m     type_idx, color_idx, state \u001b[38;5;241m=\u001b[39m array[i, j]\n\u001b[0;32m--> 285\u001b[0m     v \u001b[38;5;241m=\u001b[39m \u001b[43mWorldObj\u001b[49m\u001b[38;5;241;43m.\u001b[39;49m\u001b[43mdecode\u001b[49m\u001b[43m(\u001b[49m\u001b[43mtype_idx\u001b[49m\u001b[43m,\u001b[49m\u001b[43m \u001b[49m\u001b[43mcolor_idx\u001b[49m\u001b[43m,\u001b[49m\u001b[43m \u001b[49m\u001b[43mstate\u001b[49m\u001b[43m)\u001b[49m\n\u001b[1;32m    286\u001b[0m     grid\u001b[38;5;241m.\u001b[39mset(i, j, v)\n\u001b[1;32m    287\u001b[0m     vis_mask[i, j] \u001b[38;5;241m=\u001b[39m type_idx \u001b[38;5;241m!=\u001b[39m OBJECT_TO_IDX[\u001b[38;5;124m\"\u001b[39m\u001b[38;5;124munseen\u001b[39m\u001b[38;5;124m\"\u001b[39m]\n",
      "File \u001b[0;32m~/miniconda3/envs/minigrid_env/lib/python3.9/site-packages/minigrid/core/world_object.py:75\u001b[0m, in \u001b[0;36mWorldObj.decode\u001b[0;34m(type_idx, color_idx, state)\u001b[0m\n\u001b[1;32m     72\u001b[0m \u001b[38;5;250m\u001b[39m\u001b[38;5;124;03m\"\"\"Create an object from a 3-tuple state description\"\"\"\u001b[39;00m\n\u001b[1;32m     74\u001b[0m obj_type \u001b[38;5;241m=\u001b[39m IDX_TO_OBJECT[type_idx]\n\u001b[0;32m---> 75\u001b[0m color \u001b[38;5;241m=\u001b[39m \u001b[43mIDX_TO_COLOR\u001b[49m\u001b[43m[\u001b[49m\u001b[43mcolor_idx\u001b[49m\u001b[43m]\u001b[49m\n\u001b[1;32m     77\u001b[0m \u001b[38;5;28;01mif\u001b[39;00m obj_type \u001b[38;5;241m==\u001b[39m \u001b[38;5;124m\"\u001b[39m\u001b[38;5;124mempty\u001b[39m\u001b[38;5;124m\"\u001b[39m \u001b[38;5;129;01mor\u001b[39;00m obj_type \u001b[38;5;241m==\u001b[39m \u001b[38;5;124m\"\u001b[39m\u001b[38;5;124munseen\u001b[39m\u001b[38;5;124m\"\u001b[39m:\n\u001b[1;32m     78\u001b[0m     \u001b[38;5;28;01mreturn\u001b[39;00m \u001b[38;5;28;01mNone\u001b[39;00m\n",
      "\u001b[0;31mKeyError\u001b[0m: 9"
     ]
    }
   ],
   "source": [
    "def mask_output(obs):\n",
    "    \n",
    "    masked_logits = obs\n",
    "    masked_logits[..., 0] %= 11\n",
    "    masked_logits[..., 1] %= 6\n",
    "    masked_logits[..., 2] %= 3\n",
    "\n",
    "    return masked_logits\n",
    "\n",
    "d, e = Grid.decode(mask_output(frame[10]).numpy())"
   ]
  },
  {
   "cell_type": "code",
   "execution_count": 11,
   "metadata": {},
   "outputs": [
    {
     "data": {
      "text/plain": [
       "tensor([[ 9,  4,  9, 10,  7,  9,  9],\n",
       "        [ 6,  4,  8,  6,  7, 10,  7],\n",
       "        [ 4,  6,  0,  1,  8,  4,  6],\n",
       "        [ 3, 10,  0,  0,  7, 10,  7],\n",
       "        [ 6,  2,  7,  5,  4,  4,  2],\n",
       "        [ 6,  8,  8,  3,  6,  9,  3],\n",
       "        [ 6,  1,  8,  2,  3,  0,  6]], dtype=torch.uint8)"
      ]
     },
     "execution_count": 11,
     "metadata": {},
     "output_type": "execute_result"
    }
   ],
   "source": [
    "frame[10][:, :,1]"
   ]
  },
  {
   "cell_type": "code",
   "execution_count": 40,
   "metadata": {},
   "outputs": [
    {
     "data": {
      "text/plain": [
       "0"
      ]
     },
     "execution_count": 40,
     "metadata": {},
     "output_type": "execute_result"
    }
   ],
   "source": [
    "full_frame[0].numpy().min()"
   ]
  },
  {
   "cell_type": "code",
   "execution_count": 14,
   "metadata": {},
   "outputs": [
    {
     "ename": "NameError",
     "evalue": "name 'd' is not defined",
     "output_type": "error",
     "traceback": [
      "\u001b[0;31m---------------------------------------------------------------------------\u001b[0m",
      "\u001b[0;31mNameError\u001b[0m                                 Traceback (most recent call last)",
      "Cell \u001b[0;32mIn[14], line 2\u001b[0m\n\u001b[1;32m      1\u001b[0m \u001b[38;5;66;03m# Render the whole grid\u001b[39;00m\n\u001b[0;32m----> 2\u001b[0m img \u001b[38;5;241m=\u001b[39m \u001b[43md\u001b[49m\u001b[38;5;241m.\u001b[39mrender(\n\u001b[1;32m      3\u001b[0m     \u001b[38;5;241m16\u001b[39m,\n\u001b[1;32m      4\u001b[0m     agent_pos\u001b[38;5;241m=\u001b[39m(\u001b[38;5;241m7\u001b[39m \u001b[38;5;241m/\u001b[39m\u001b[38;5;241m/\u001b[39m \u001b[38;5;241m2\u001b[39m, \u001b[38;5;241m7\u001b[39m \u001b[38;5;241m-\u001b[39m \u001b[38;5;241m1\u001b[39m),\n\u001b[1;32m      5\u001b[0m     agent_dir\u001b[38;5;241m=\u001b[39m\u001b[38;5;241m3\u001b[39m,\n\u001b[1;32m      6\u001b[0m     \u001b[38;5;66;03m# highlight_mask=False,\u001b[39;00m\n\u001b[1;32m      7\u001b[0m )\n",
      "\u001b[0;31mNameError\u001b[0m: name 'd' is not defined"
     ]
    }
   ],
   "source": [
    "        # Render the whole grid\n",
    "img = d.render(\n",
    "    16,\n",
    "    agent_pos=(7 // 2, 7 - 1),\n",
    "    agent_dir=3,\n",
    "    # highlight_mask=False,\n",
    ")"
   ]
  },
  {
   "cell_type": "code",
   "execution_count": null,
   "metadata": {},
   "outputs": [],
   "source": [
    "CELL_PIXELS = 32\n",
    "\n",
    "def get_obs_render(self, obs, tile_size=CELL_PIXELS//2, mode='pixmap'):\n",
    "   \"\"\"\n",
    "   Render an agent observation for visualization\n",
    "   \"\"\"\n",
    "\n",
    "   if self.obs_render == None:\n",
    "      from gym_minigrid.rendering import Renderer\n",
    "      self.obs_render = Renderer(\n",
    "            self.agent_view_size * tile_size,\n",
    "            self.agent_view_size * tile_size\n",
    "      )\n",
    "\n",
    "   r = self.obs_render\n",
    "\n",
    "   r.beginFrame()\n",
    "\n",
    "   grid = Grid.decode(obs)\n",
    "\n",
    "   # Render the whole grid\n",
    "   grid.render(r, tile_size)\n",
    "\n",
    "   # Draw the agent\n",
    "   ratio = tile_size / CELL_PIXELS\n",
    "   r.push()\n",
    "   r.scale(ratio, ratio)\n",
    "   r.translate(\n",
    "      CELL_PIXELS * (0.5 + self.agent_view_size // 2),\n",
    "      CELL_PIXELS * (self.agent_view_size - 0.5)\n",
    "   )\n",
    "   r.rotate(3 * 90)\n",
    "   r.setLineColor(255, 0, 0)\n",
    "   r.setColor(255, 0, 0)\n",
    "   r.drawPolygon([\n",
    "      (-12, 10),\n",
    "      ( 12,  0),\n",
    "      (-12, -10)\n",
    "   ])\n",
    "   r.pop()\n",
    "\n",
    "   r.endFrame()\n",
    "\n",
    "   if mode == 'rgb_array':\n",
    "      return r.getArray()\n",
    "   elif mode == 'pixmap':\n",
    "      return r.getPixmap()\n",
    "   return r"
   ]
  },
  {
   "cell_type": "code",
   "execution_count": 12,
   "metadata": {},
   "outputs": [],
   "source": [
    "import matplotlib.pyplot as plt"
   ]
  },
  {
   "cell_type": "code",
   "execution_count": 24,
   "metadata": {},
   "outputs": [
    {
     "data": {
      "text/plain": [
       "<matplotlib.image.AxesImage at 0x7fb8bcac5f40>"
      ]
     },
     "execution_count": 24,
     "metadata": {},
     "output_type": "execute_result"
    },
    {
     "data": {
      "image/png": "[encoded data removed]",
      "text/plain": [
       "<Figure size 640x480 with 1 Axes>"
      ]
     },
     "metadata": {},
     "output_type": "display_data"
    }
   ],
   "source": [
    "plt.imshow(img)"
   ]
  },
  {
   "cell_type": "code",
   "execution_count": 14,
   "metadata": {},
   "outputs": [
    {
     "ename": "KeyError",
     "evalue": "5",
     "output_type": "error",
     "traceback": [
      "\u001b[0;31m---------------------------------------------------------------------------\u001b[0m",
      "\u001b[0;31mKeyError\u001b[0m                                  Traceback (most recent call last)",
      "Cell \u001b[0;32mIn[14], line 50\u001b[0m\n\u001b[1;32m     48\u001b[0m \u001b[38;5;66;03m# Get the RGB values for each code\u001b[39;00m\n\u001b[1;32m     49\u001b[0m type_rgb \u001b[38;5;241m=\u001b[39m COLORS[obj_type]\n\u001b[0;32m---> 50\u001b[0m color_rgb \u001b[38;5;241m=\u001b[39m \u001b[43mCOLORS\u001b[49m\u001b[43m[\u001b[49m\u001b[43mobj_color\u001b[49m\u001b[43m]\u001b[49m\n\u001b[1;32m     51\u001b[0m state_rgb \u001b[38;5;241m=\u001b[39m COLORS[obj_state]\n\u001b[1;32m     52\u001b[0m \u001b[38;5;66;03m# Combine the RGB values by averaging them\u001b[39;00m\n",
      "\u001b[0;31mKeyError\u001b[0m: 5"
     ]
    }
   ],
   "source": [
    "import numpy as np\n",
    "from PIL import Image\n",
    "from minigrid.core.constants import IDX_TO_COLOR, COLORS\n",
    "\n",
    "# Define the RGB values for each object type, color, and state\n",
    "# You can change these values as you like\n",
    "\n",
    "\n",
    "# Define a sample minigrid array grid encoding\n",
    "# You can use any encoding you want\n",
    "grid = np.array([\n",
    "    [[1, 0, 0], [1, 0, 0], [1, 0, 0], [1, 0, 0], [1, 0, 0]],\n",
    "    [[1, 0, 0], [2, 0, 0], [3, 1, 0], [2, 0, 0], [1, 0, 0]],\n",
    "    [[1, 0, 0], [2, 0, 0], [4, 2, 1], [2, 0, 0], [1, 0, 0]],\n",
    "    [[1, 0, 0], [2, 0, 0], [2, 0, 0], [2, 0, 0], [1, 0, 0]],\n",
    "    [[1, 0, 0], [1, 0, 0], [1, 0, 0], [1, 0, 0], [1, 0, 0]],\n",
    "])\n",
    "\n",
    "grid = full_frame[10].numpy()\n",
    "\n",
    "# Get the height and width of the grid\n",
    "height, width, _ = grid.shape\n",
    "\n",
    "# Create a new image object with the same size as the grid\n",
    "img = Image.new('RGB', (width, height))\n",
    "\n",
    "# Loop over each grid cell and fill the corresponding pixel with the color\n",
    "for i in range(height):\n",
    "    for j in range(width):\n",
    "        # Get the object type, color, and state codes\n",
    "        obj_type, obj_color, obj_state = grid[i, j]\n",
    "        # Get the RGB values for each code\n",
    "        # type_rgb = COLORS[obj_type]\n",
    "        color_rgb = COLORS[IDX_TO_COLOR[obj_color]]\n",
    "\n",
    "        # state_rgb = COLORS[obj_state]\n",
    "        # Combine the RGB values by averaging them\n",
    "        # Fill the pixel with the color\n",
    "        img.putpixel((j, i), color_rgb)\n",
    "\n",
    "# Show the image\n",
    "img.show()\n",
    "plt.imshow(img)\n"
   ]
  },
  {
   "cell_type": "code",
   "execution_count": 16,
   "metadata": {},
   "outputs": [
    {
     "data": {
      "text/plain": [
       "(0, 0, 0)"
      ]
     },
     "execution_count": 16,
     "metadata": {},
     "output_type": "execute_result"
    }
   ],
   "source": [
    "COLORS[0]"
   ]
  },
  {
   "cell_type": "code",
   "execution_count": 12,
   "metadata": {},
   "outputs": [
    {
     "ename": "NameError",
     "evalue": "name 'img' is not defined",
     "output_type": "error",
     "traceback": [
      "\u001b[0;31m---------------------------------------------------------------------------\u001b[0m",
      "\u001b[0;31mNameError\u001b[0m                                 Traceback (most recent call last)",
      "Cell \u001b[0;32mIn[12], line 1\u001b[0m\n\u001b[0;32m----> 1\u001b[0m \u001b[43mimg\u001b[49m\u001b[38;5;241m.\u001b[39mshape\n",
      "\u001b[0;31mNameError\u001b[0m: name 'img' is not defined"
     ]
    }
   ],
   "source": [
    "img.shape"
   ]
  },
  {
   "cell_type": "code",
   "execution_count": null,
   "metadata": {},
   "outputs": [],
   "source": []
  }
 ],
 "metadata": {
  "kernelspec": {
   "display_name": "minigrid_env",
   "language": "python",
   "name": "python3"
  },
  "language_info": {
   "codemirror_mode": {
    "name": "ipython",
    "version": 3
   },
   "file_extension": ".py",
   "mimetype": "text/x-python",
   "name": "python",
   "nbconvert_exporter": "python",
   "pygments_lexer": "ipython3",
   "version": "3.9.18"
  }
 },
 "nbformat": 4,
 "nbformat_minor": 2
}
