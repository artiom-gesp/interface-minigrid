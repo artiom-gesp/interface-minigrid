{
 "cells": [
  {
   "cell_type": "code",
   "execution_count": 1,
   "metadata": {},
   "outputs": [
    {
     "name": "stdout",
     "output_type": "stream",
     "text": [
      "pygame 2.5.2 (SDL 2.28.2, Python 3.9.18)\n",
      "Hello from the pygame community. https://www.pygame.org/contribute.html\n"
     ]
    }
   ],
   "source": [
    "from minigrid.wrappers import ImgObsWrapper\n",
    "import gymnasium as gym\n",
    "from minigrid.core.grid import Grid\n",
    "import torch\n",
    "import matplotlib.pyplot as plt\n",
    "import numpy as np\n",
    "from stable_baselines3 import PPO\n",
    "from minigrid.core.constants import COLOR_TO_IDX, OBJECT_TO_IDX\n",
    "from PIL import Image\n",
    "\n"
   ]
  },
  {
   "cell_type": "code",
   "execution_count": 2,
   "metadata": {},
   "outputs": [],
   "source": [
    "env = gym.make(\"MiniGrid-FourRooms-v0\", render_mode=\"rgb_array\", agent_view_size=5)\n",
    "env = ImgObsWrapper(env)"
   ]
  },
  {
   "cell_type": "code",
   "execution_count": 4,
   "metadata": {},
   "outputs": [],
   "source": [
    "a,_ = env.reset()"
   ]
  },
  {
   "cell_type": "code",
   "execution_count": 3,
   "metadata": {},
   "outputs": [],
   "source": [
    "def mask_output(obs):\n",
    "    \n",
    "    masked_logits = obs\n",
    "    masked_logits[..., 0] %= 11\n",
    "    masked_logits[..., 1] %= 6\n",
    "    masked_logits[..., 2] %= 3\n",
    "\n",
    "    return masked_logits\n",
    "\n"
   ]
  },
  {
   "cell_type": "code",
   "execution_count": 4,
   "metadata": {},
   "outputs": [],
   "source": [
    "def decode_img(repr):\n",
    "    d, e = Grid.decode(repr)\n",
    "    return d.render(\n",
    "        16,\n",
    "        agent_pos=(5 // 2, 5 - 1),\n",
    "        agent_dir=3,\n",
    "        # highlight_mask=False,\n",
    "    )\n",
    "\n",
    "def decode_full_img(repr, agent_pos, agent_dir):\n",
    "    d, e = Grid.decode(repr)\n",
    "    return d.render(\n",
    "        16,\n",
    "        agent_pos=agent_pos,\n",
    "        agent_dir=agent_dir,\n",
    "        # highlight_mask=False,\n",
    "    )"
   ]
  },
  {
   "cell_type": "code",
   "execution_count": 156,
   "metadata": {},
   "outputs": [],
   "source": [
    "def get_top(agent_dir, agent_pos, short_side, long_side):\n",
    "    x, y = agent_pos\n",
    "    if agent_dir == 0:\n",
    "        top = (x, max(y - short_side, 0))\n",
    "    elif agent_dir == 1:\n",
    "        top = (max(x - short_side, 0), y)\n",
    "    elif agent_dir == 2:\n",
    "        top = (max(x - long_side, 0), max(y - short_side, 0))\n",
    "    elif agent_dir == 3:\n",
    "        top = (max(x - short_side, 0), max(y - long_side, 0))\n",
    "    \n",
    "    return top\n",
    "\n",
    "def update_full_view(env, view):\n",
    "    agent_dir = env.agent_dir\n",
    "    agent_pos = env.agent_pos\n",
    "\n",
    "    view = np.rot90(view, (4 - np.abs(env.agent_dir - 3)) % 4)\n",
    "    x, y = agent_pos\n",
    "\n",
    "    view_size = view.shape[0]\n",
    "\n",
    "    short_side = view_size // 2\n",
    "    long_side = view_size - 1\n",
    "\n",
    "    x_top, y_top = get_top(agent_dir, agent_pos, short_side, long_side)\n",
    "\n",
    "    if agent_dir == 0: # right\n",
    "        start_y = short_side - y if y - short_side < 0 else 0\n",
    "        start_x = 0\n",
    "        end_x = env.size - x\n",
    "        end_y = (view_size - short_side) + (env.size - y - 1)\n",
    "\n",
    "    elif agent_dir == 1: # down\n",
    "        start_y = 0\n",
    "        start_x = short_side - x if x - short_side < 0 else 0\n",
    "\n",
    "        end_x = (view_size - short_side) + (env.size - x - 1)\n",
    "        end_y = env.size - y\n",
    "\n",
    "    elif agent_dir == 2: # left\n",
    "        start_y = short_side - y if y - short_side < 0 else 0\n",
    "        start_x = long_side - x if x - long_side - 1 < 0 else 0\n",
    "\n",
    "        end_x = view_size\n",
    "        end_y = (view_size - short_side) + (env.size - y - 1)\n",
    "\n",
    "\n",
    "    elif agent_dir == 3: # top\n",
    "\n",
    "        start_x = short_side - x if x - short_side < 0 else 0\n",
    "        start_y = long_side - y if y - long_side < 0 else 0\n",
    "\n",
    "        end_x = (view_size - short_side) + (env.size - x - 1)\n",
    "        end_y = view_size\n",
    "\n",
    "    cropped_view = view[start_x:end_x, start_y:end_y]\n",
    "\n",
    "    full_view = env.grid.encode()\n",
    "\n",
    "    width, height, _ = cropped_view.shape\n",
    "\n",
    "    full_view[x_top:x_top+width, y_top:y_top+height] = cropped_view\n",
    "\n",
    "    return full_view\n",
    "\n",
    "def full_obs(env):\n",
    "    full_grid = env.grid.encode()\n",
    "    full_grid[env.agent_pos[0]][env.agent_pos[1]] = np.array(\n",
    "        [OBJECT_TO_IDX[\"agent\"], COLOR_TO_IDX[\"red\"], env.agent_dir]\n",
    "    )\n",
    "\n",
    "    return full_grid[None, ...]"
   ]
  },
  {
   "cell_type": "code",
   "execution_count": 154,
   "metadata": {},
   "outputs": [
    {
     "name": "stdout",
     "output_type": "stream",
     "text": [
      "Wrapping the env with a `Monitor` wrapper\n",
      "Wrapping the env in a DummyVecEnv.\n",
      "Wrapping the env in a VecTransposeImage.\n"
     ]
    }
   ],
   "source": [
    "model = PPO.load(\"/local/home/argesp/interface-minigrid/rl_model_600000_steps\")\n",
    "model.set_env(env)"
   ]
  },
  {
   "cell_type": "code",
   "execution_count": 157,
   "metadata": {},
   "outputs": [],
   "source": [
    "images = []\n",
    "obs = model.env.reset()\n",
    "img = model.env.render(mode=\"rgb_array\")\n",
    "\n",
    "mods_imgs = []\n",
    "aligned_imgs = []\n",
    "real = []\n",
    "tops = []\n",
    "trucs = []\n",
    "for i in range(400):\n",
    "    action, _ = model.predict(obs)\n",
    "    obs, _, _ ,_ = model.env.step(action)\n",
    "\n",
    "    mod_img = mask_output(torch.randint(0, 10, (5, 5, 3)).numpy())\n",
    "\n",
    "    mods_imgs.append(mod_img)\n",
    "\n",
    "    real.append(env.render())\n",
    "\n",
    "    aligned_img = np.rot90(mod_img, (4 - np.abs(env.agent_dir - 3)) % 4)\n",
    "\n",
    "    aligned_imgs.append(aligned_img)\n",
    "\n",
    "    full_view = update_full_view(env, mod_img)\n",
    "\n",
    "    images.append(Image.fromarray(decode_full_img(full_view, env.agent_pos, env.agent_dir)).convert('RGBA', dither=None, palette='WEB'))\n",
    "\n",
    "    "
   ]
  },
  {
   "cell_type": "code",
   "execution_count": 163,
   "metadata": {},
   "outputs": [],
   "source": [
    "images[0].save(f\"test.gif\", format=\"GIF\", append_images=images[1:], save_all=True, duration=len(images) // 4, loop=0)"
   ]
  },
  {
   "cell_type": "code",
   "execution_count": 107,
   "metadata": {},
   "outputs": [
    {
     "data": {
      "text/plain": [
       "(0, 0, 14, 4)"
      ]
     },
     "execution_count": 107,
     "metadata": {},
     "output_type": "execute_result"
    }
   ],
   "source": [
    "trucs[-1]"
   ]
  },
  {
   "cell_type": "code",
   "execution_count": 106,
   "metadata": {},
   "outputs": [
    {
     "data": {
      "text/plain": [
       "(15, 5)"
      ]
     },
     "execution_count": 106,
     "metadata": {},
     "output_type": "execute_result"
    }
   ],
   "source": [
    "tops[-1]"
   ]
  },
  {
   "cell_type": "code",
   "execution_count": 114,
   "metadata": {},
   "outputs": [
    {
     "name": "stderr",
     "output_type": "stream",
     "text": [
      "/local/home/argesp/miniconda3/envs/minigrid_env/lib/python3.9/site-packages/gymnasium/core.py:311: UserWarning: \u001b[33mWARN: env.agent_pos to get variables from other wrappers is deprecated and will be removed in v1.0, to get this variable you can do `env.unwrapped.agent_pos` for environment variables or `env.get_wrapper_attr('agent_pos')` that will search the reminding wrappers.\u001b[0m\n",
      "  logger.warn(\n"
     ]
    },
    {
     "data": {
      "text/plain": [
       "(15, 7)"
      ]
     },
     "execution_count": 114,
     "metadata": {},
     "output_type": "execute_result"
    }
   ],
   "source": [
    "env.agent_pos"
   ]
  },
  {
   "cell_type": "code",
   "execution_count": 147,
   "metadata": {},
   "outputs": [
    {
     "name": "stderr",
     "output_type": "stream",
     "text": [
      "/local/home/argesp/miniconda3/envs/minigrid_env/lib/python3.9/site-packages/gymnasium/core.py:311: UserWarning: \u001b[33mWARN: env.grid to get variables from other wrappers is deprecated and will be removed in v1.0, to get this variable you can do `env.unwrapped.grid` for environment variables or `env.get_wrapper_attr('grid')` that will search the reminding wrappers.\u001b[0m\n",
      "  logger.warn(\n"
     ]
    }
   ],
   "source": [
    "full_view = env.grid.encode()\n",
    "full_view[11:15, 9:10] = np.array([6,0,0])"
   ]
  },
  {
   "cell_type": "code",
   "execution_count": 146,
   "metadata": {},
   "outputs": [
    {
     "data": {
      "text/plain": [
       "(19, 19, 3)"
      ]
     },
     "execution_count": 146,
     "metadata": {},
     "output_type": "execute_result"
    }
   ],
   "source": [
    "full_view[11, ]"
   ]
  },
  {
   "cell_type": "code",
   "execution_count": 161,
   "metadata": {},
   "outputs": [
    {
     "data": {
      "text/plain": [
       "<matplotlib.image.AxesImage at 0x7fbd3ca7e880>"
      ]
     },
     "execution_count": 161,
     "metadata": {},
     "output_type": "execute_result"
    },
    {
     "data": {
      "image/png": "[encoded data removed]",
      "text/plain": [
       "<Figure size 640x480 with 1 Axes>"
      ]
     },
     "metadata": {},
     "output_type": "display_data"
    }
   ],
   "source": [
    "plt.imshow(images[-60])"
   ]
  },
  {
   "cell_type": "code",
   "execution_count": 162,
   "metadata": {},
   "outputs": [
    {
     "data": {
      "text/plain": [
       "<matplotlib.image.AxesImage at 0x7fbd3c899160>"
      ]
     },
     "execution_count": 162,
     "metadata": {},
     "output_type": "execute_result"
    },
    {
     "data": {
      "image/png": "[encoded data removed]",
      "text/plain": [
       "<Figure size 640x480 with 1 Axes>"
      ]
     },
     "metadata": {},
     "output_type": "display_data"
    }
   ],
   "source": [
    "plt.imshow(decode_img(mods_imgs[-60]))"
   ]
  },
  {
   "cell_type": "code",
   "execution_count": null,
   "metadata": {},
   "outputs": [],
   "source": [
    "0 -> 1\n",
    "1 -> 2\n",
    "2 -> 3\n",
    "\n",
    "0 -> 3\n",
    "1 -> 2\n",
    "2 -> 1\n",
    "\n"
   ]
  }
 ],
 "metadata": {
  "kernelspec": {
   "display_name": "minigrid_env",
   "language": "python",
   "name": "python3"
  },
  "language_info": {
   "codemirror_mode": {
    "name": "ipython",
    "version": 3
   },
   "file_extension": ".py",
   "mimetype": "text/x-python",
   "name": "python",
   "nbconvert_exporter": "python",
   "pygments_lexer": "ipython3",
   "version": "3.9.18"
  }
 },
 "nbformat": 4,
 "nbformat_minor": 2
}
